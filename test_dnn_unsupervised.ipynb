{
 "cells": [
  {
   "cell_type": "code",
   "execution_count": 1,
   "metadata": {},
   "outputs": [],
   "source": [
    "# DNNベース手法　教師なし学習"
   ]
  },
  {
   "cell_type": "code",
   "execution_count": 2,
   "metadata": {},
   "outputs": [],
   "source": [
    "## ライブラリやモジュールの読み込み\n",
    "from glob import glob\n",
    "from input_output import input, output\n",
    "from dnn_tools import preprocess_dnn, dataloaders_unsupervised\n",
    "from dnn_tools import train_unsupervised, pred_unsupervised, LSTM"
   ]
  },
  {
   "cell_type": "code",
   "execution_count": 3,
   "metadata": {},
   "outputs": [],
   "source": [
    "# データの読み込み\n",
    "# データファイルの検索\n",
    "folder_path = \"./data\"\n",
    "noise_lebel = 0.5\n",
    "train_normaly_file_path_list  = glob(f\"{folder_path}/train/normaly_{noise_lebel}/*.csv\")\n",
    "test_amplitude_file_path      = glob(f\"{folder_path}/test/anormaly_{noise_lebel}/local_amplitude_00001.csv\")\n",
    "test_average_file_path        = glob(f\"{folder_path}/test/anormaly_{noise_lebel}/local_average_00001.csv\")\n",
    "test_time_amplitude_file_path = glob(f\"{folder_path}/test/anormaly_{noise_lebel}/time_series_amplitude_00001.csv\")\n",
    "test_time_average_file_path   = glob(f\"{folder_path}/test/anormaly_{noise_lebel}/time_series_average_00001.csv\")\n",
    "test_time_frequency_file_path = glob(f\"{folder_path}/test/anormaly_{noise_lebel}/time_series_frequency_00001.csv\")\n",
    "\n",
    "# データファイルの読み込み\n",
    "train_normaly_list       = input(train_normaly_file_path_list)\n",
    "test_amplitude_list      = input(test_amplitude_file_path)\n",
    "test_average_list        = input(test_average_file_path)\n",
    "test_time_amplitude_list = input(test_time_amplitude_file_path)\n",
    "test_time_average_list   = input(test_time_average_file_path)\n",
    "test_time_frequency_list = input(test_time_frequency_file_path)"
   ]
  },
  {
   "cell_type": "code",
   "execution_count": 4,
   "metadata": {},
   "outputs": [],
   "source": [
    "# 前処理\n",
    "train_normaly_data_df_list       = preprocess_dnn(train_normaly_list)\n",
    "test_amplitude_data_df_list      = preprocess_dnn(test_amplitude_list)\n",
    "test_average_data_df_list        = preprocess_dnn(test_average_list)\n",
    "test_time_amplitude_data_df_list = preprocess_dnn(test_time_amplitude_list)\n",
    "test_time_average_data_df_list   = preprocess_dnn(test_time_average_list)\n",
    "test_time_frequency_df_list      = preprocess_dnn(test_time_frequency_list)\n",
    "\n",
    "# データローダー化\n",
    "window_size = 10\n",
    "train_normaly_data_loader, val_normaly_label_loader        = dataloaders_unsupervised(train_normaly_data_df_list, window_size)\n",
    "test_amplitude_data_loader, test_amplitude_label           = dataloaders_unsupervised(test_amplitude_data_df_list , window_size, train=False)\n",
    "test_average_data_loader, test_average_label               = dataloaders_unsupervised(test_average_data_df_list , window_size, train=False)\n",
    "test_time_amplitude_data_loader, test_time_amplitude_label = dataloaders_unsupervised(test_time_amplitude_data_df_list , window_size, train=False)\n",
    "test_time_average_data_loader, test_time_average_label     = dataloaders_unsupervised(test_time_average_data_df_list , window_size, train=False)\n",
    "test_time_frequency_data_loader, test_time_frequency_label = dataloaders_unsupervised(test_time_frequency_df_list  , window_size, train=False)\n",
    "\n",
    "test_data_loader_label_dict = {\n",
    "    \"amplitude\"     :[test_amplitude_data_loader, test_amplitude_label],\n",
    "    \"average\"       :[test_average_data_loader, test_average_label],\n",
    "    \"time_amplitude\":[test_time_amplitude_data_loader, test_time_amplitude_label],\n",
    "    \"time_average\"  :[test_time_average_data_loader, test_time_average_label],\n",
    "    \"time_frequency\":[test_time_frequency_data_loader, test_time_frequency_label]\n",
    "}"
   ]
  },
  {
   "cell_type": "code",
   "execution_count": 5,
   "metadata": {},
   "outputs": [
    {
     "name": "stdout",
     "output_type": "stream",
     "text": [
      "Epoch [1/20], Train Loss: 0.0450, Val Loss: 0.0006\n",
      "Epoch [2/20], Train Loss: 0.0005, Val Loss: 0.0003\n",
      "Epoch [3/20], Train Loss: 0.0003, Val Loss: 0.0004\n",
      "Epoch [4/20], Train Loss: 0.0003, Val Loss: 0.0002\n",
      "Epoch [5/20], Train Loss: 0.0003, Val Loss: 0.0003\n",
      "Epoch [6/20], Train Loss: 0.0005, Val Loss: 0.0003\n",
      "Epoch [7/20], Train Loss: 0.0003, Val Loss: 0.0003\n",
      "Epoch [8/20], Train Loss: 0.0005, Val Loss: 0.0014\n",
      "Epoch [9/20], Train Loss: 0.0008, Val Loss: 0.0007\n",
      "Epoch [10/20], Train Loss: 0.0006, Val Loss: 0.0008\n",
      "Epoch [11/20], Train Loss: 0.0009, Val Loss: 0.0009\n",
      "Epoch [12/20], Train Loss: 0.0006, Val Loss: 0.0002\n",
      "Epoch [13/20], Train Loss: 0.0004, Val Loss: 0.0010\n",
      "Epoch [14/20], Train Loss: 0.0008, Val Loss: 0.0008\n",
      "Epoch [15/20], Train Loss: 0.0006, Val Loss: 0.0006\n",
      "Epoch [16/20], Train Loss: 0.0008, Val Loss: 0.0020\n",
      "Epoch [17/20], Train Loss: 0.0006, Val Loss: 0.0003\n",
      "Epoch [18/20], Train Loss: 0.0004, Val Loss: 0.0012\n",
      "Epoch [19/20], Train Loss: 0.0008, Val Loss: 0.0001\n",
      "Epoch [20/20], Train Loss: 0.0002, Val Loss: 0.0014\n"
     ]
    }
   ],
   "source": [
    "# モデル学習\n",
    "# モデル選定\n",
    "input_size = len(train_normaly_data_df_list[0].columns) -1\n",
    "model = LSTM(input_size)\n",
    "# 学習\n",
    "train_model = train_unsupervised(train_normaly_data_loader, val_normaly_label_loader, model)"
   ]
  },
  {
   "cell_type": "code",
   "execution_count": 6,
   "metadata": {},
   "outputs": [],
   "source": [
    "# 異常検知\n",
    "for ano_name in test_data_loader_label_dict:\n",
    "    test_data_loader, test_label = test_data_loader_label_dict[ano_name]\n",
    "    prediction = pred_unsupervised(train_model, test_data_loader)\n",
    "    output(prediction, test_label, output_file_path=f\"./result/lstm_unsupervised_{ano_name}_{noise_lebel}.csv\")"
   ]
  }
 ],
 "metadata": {
  "kernelspec": {
   "display_name": "base",
   "language": "python",
   "name": "python3"
  },
  "language_info": {
   "codemirror_mode": {
    "name": "ipython",
    "version": 3
   },
   "file_extension": ".py",
   "mimetype": "text/x-python",
   "name": "python",
   "nbconvert_exporter": "python",
   "pygments_lexer": "ipython3",
   "version": "3.11.5"
  }
 },
 "nbformat": 4,
 "nbformat_minor": 2
}
